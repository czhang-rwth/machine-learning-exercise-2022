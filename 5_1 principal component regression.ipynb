{
 "cells": [
  {
   "cell_type": "markdown",
   "metadata": {},
   "source": [
    "### exercise 5: dimension reduction "
   ]
  },
  {
   "cell_type": "markdown",
   "metadata": {},
   "source": [
    "### task 1: principal component regression"
   ]
  },
  {
   "cell_type": "code",
   "execution_count": 1,
   "metadata": {},
   "outputs": [],
   "source": [
    "import numpy as np\n",
    "import pandas as pd\n",
    "\n",
    "from sklearn.linear_model import LinearRegression\n",
    "from sklearn.decomposition import PCA\n",
    "from sklearn.cross_decomposition import PLSRegression\n",
    "from sklearn.preprocessing import StandardScaler, scale\n",
    "from sklearn.model_selection import KFold, cross_validate\n",
    "from sklearn.pipeline import Pipeline\n",
    "\n",
    "from matplotlib import pyplot as plt\n",
    "from operator import itemgetter\n",
    "\n",
    "%matplotlib inline\n",
    "plt.style.use('ggplot') # emulate R's pretty plotting\n",
    "\n",
    "# print numpy arrays with precision 4\n",
    "np.set_printoptions(precision=4)"
   ]
  },
  {
   "cell_type": "code",
   "execution_count": 2,
   "metadata": {},
   "outputs": [
    {
     "data": {
      "text/html": [
       "<div>\n",
       "<style scoped>\n",
       "    .dataframe tbody tr th:only-of-type {\n",
       "        vertical-align: middle;\n",
       "    }\n",
       "\n",
       "    .dataframe tbody tr th {\n",
       "        vertical-align: top;\n",
       "    }\n",
       "\n",
       "    .dataframe thead th {\n",
       "        text-align: right;\n",
       "    }\n",
       "</style>\n",
       "<table border=\"1\" class=\"dataframe\">\n",
       "  <thead>\n",
       "    <tr style=\"text-align: right;\">\n",
       "      <th></th>\n",
       "      <th>AtBat</th>\n",
       "      <th>Hits</th>\n",
       "      <th>HmRun</th>\n",
       "      <th>Runs</th>\n",
       "      <th>RBI</th>\n",
       "      <th>Walks</th>\n",
       "      <th>Years</th>\n",
       "      <th>CAtBat</th>\n",
       "      <th>CHits</th>\n",
       "      <th>CHmRun</th>\n",
       "      <th>CRuns</th>\n",
       "      <th>CRBI</th>\n",
       "      <th>CWalks</th>\n",
       "      <th>PutOuts</th>\n",
       "      <th>Assists</th>\n",
       "      <th>Errors</th>\n",
       "      <th>Salary</th>\n",
       "      <th>League_N</th>\n",
       "      <th>Division_W</th>\n",
       "      <th>NewLeague_N</th>\n",
       "    </tr>\n",
       "  </thead>\n",
       "  <tbody>\n",
       "    <tr>\n",
       "      <th>-Alan Ashby</th>\n",
       "      <td>315</td>\n",
       "      <td>81</td>\n",
       "      <td>7</td>\n",
       "      <td>24</td>\n",
       "      <td>38</td>\n",
       "      <td>39</td>\n",
       "      <td>14</td>\n",
       "      <td>3449</td>\n",
       "      <td>835</td>\n",
       "      <td>69</td>\n",
       "      <td>321</td>\n",
       "      <td>414</td>\n",
       "      <td>375</td>\n",
       "      <td>632</td>\n",
       "      <td>43</td>\n",
       "      <td>10</td>\n",
       "      <td>475.0</td>\n",
       "      <td>1</td>\n",
       "      <td>1</td>\n",
       "      <td>1</td>\n",
       "    </tr>\n",
       "    <tr>\n",
       "      <th>-Alvin Davis</th>\n",
       "      <td>479</td>\n",
       "      <td>130</td>\n",
       "      <td>18</td>\n",
       "      <td>66</td>\n",
       "      <td>72</td>\n",
       "      <td>76</td>\n",
       "      <td>3</td>\n",
       "      <td>1624</td>\n",
       "      <td>457</td>\n",
       "      <td>63</td>\n",
       "      <td>224</td>\n",
       "      <td>266</td>\n",
       "      <td>263</td>\n",
       "      <td>880</td>\n",
       "      <td>82</td>\n",
       "      <td>14</td>\n",
       "      <td>480.0</td>\n",
       "      <td>0</td>\n",
       "      <td>1</td>\n",
       "      <td>0</td>\n",
       "    </tr>\n",
       "    <tr>\n",
       "      <th>-Andre Dawson</th>\n",
       "      <td>496</td>\n",
       "      <td>141</td>\n",
       "      <td>20</td>\n",
       "      <td>65</td>\n",
       "      <td>78</td>\n",
       "      <td>37</td>\n",
       "      <td>11</td>\n",
       "      <td>5628</td>\n",
       "      <td>1575</td>\n",
       "      <td>225</td>\n",
       "      <td>828</td>\n",
       "      <td>838</td>\n",
       "      <td>354</td>\n",
       "      <td>200</td>\n",
       "      <td>11</td>\n",
       "      <td>3</td>\n",
       "      <td>500.0</td>\n",
       "      <td>1</td>\n",
       "      <td>0</td>\n",
       "      <td>1</td>\n",
       "    </tr>\n",
       "    <tr>\n",
       "      <th>-Andres Galarraga</th>\n",
       "      <td>321</td>\n",
       "      <td>87</td>\n",
       "      <td>10</td>\n",
       "      <td>39</td>\n",
       "      <td>42</td>\n",
       "      <td>30</td>\n",
       "      <td>2</td>\n",
       "      <td>396</td>\n",
       "      <td>101</td>\n",
       "      <td>12</td>\n",
       "      <td>48</td>\n",
       "      <td>46</td>\n",
       "      <td>33</td>\n",
       "      <td>805</td>\n",
       "      <td>40</td>\n",
       "      <td>4</td>\n",
       "      <td>91.5</td>\n",
       "      <td>1</td>\n",
       "      <td>0</td>\n",
       "      <td>1</td>\n",
       "    </tr>\n",
       "    <tr>\n",
       "      <th>-Alfredo Griffin</th>\n",
       "      <td>594</td>\n",
       "      <td>169</td>\n",
       "      <td>4</td>\n",
       "      <td>74</td>\n",
       "      <td>51</td>\n",
       "      <td>35</td>\n",
       "      <td>11</td>\n",
       "      <td>4408</td>\n",
       "      <td>1133</td>\n",
       "      <td>19</td>\n",
       "      <td>501</td>\n",
       "      <td>336</td>\n",
       "      <td>194</td>\n",
       "      <td>282</td>\n",
       "      <td>421</td>\n",
       "      <td>25</td>\n",
       "      <td>750.0</td>\n",
       "      <td>0</td>\n",
       "      <td>1</td>\n",
       "      <td>0</td>\n",
       "    </tr>\n",
       "  </tbody>\n",
       "</table>\n",
       "</div>"
      ],
      "text/plain": [
       "                   AtBat  Hits  HmRun  Runs  RBI  Walks  Years  CAtBat  CHits  \\\n",
       "-Alan Ashby          315    81      7    24   38     39     14    3449    835   \n",
       "-Alvin Davis         479   130     18    66   72     76      3    1624    457   \n",
       "-Andre Dawson        496   141     20    65   78     37     11    5628   1575   \n",
       "-Andres Galarraga    321    87     10    39   42     30      2     396    101   \n",
       "-Alfredo Griffin     594   169      4    74   51     35     11    4408   1133   \n",
       "\n",
       "                   CHmRun  CRuns  CRBI  CWalks  PutOuts  Assists  Errors  \\\n",
       "-Alan Ashby            69    321   414     375      632       43      10   \n",
       "-Alvin Davis           63    224   266     263      880       82      14   \n",
       "-Andre Dawson         225    828   838     354      200       11       3   \n",
       "-Andres Galarraga      12     48    46      33      805       40       4   \n",
       "-Alfredo Griffin       19    501   336     194      282      421      25   \n",
       "\n",
       "                   Salary  League_N  Division_W  NewLeague_N  \n",
       "-Alan Ashby         475.0         1           1            1  \n",
       "-Alvin Davis        480.0         0           1            0  \n",
       "-Andre Dawson       500.0         1           0            1  \n",
       "-Andres Galarraga    91.5         1           0            1  \n",
       "-Alfredo Griffin    750.0         0           1            0  "
      ]
     },
     "execution_count": 2,
     "metadata": {},
     "output_type": "execute_result"
    }
   ],
   "source": [
    "hitters = pd.read_csv(r'C:\\Users\\Chijun Zhang\\Documents\\jupyter\\machine learning exercise\\datasets\\Hitters.csv', index_col=0).dropna()\n",
    "dummies = pd.get_dummies(hitters[['League', 'Division', 'NewLeague']])\n",
    "hitters = hitters.drop(['League', 'Division', 'NewLeague'], axis=1)\n",
    "hitters = pd.concat([hitters, dummies[['League_N', 'Division_W', 'NewLeague_N']]],axis=1)\n",
    "hitters.head()"
   ]
  },
  {
   "cell_type": "code",
   "execution_count": 3,
   "metadata": {},
   "outputs": [],
   "source": [
    "X = hitters.drop('Salary', axis = 1).values\n",
    "y = hitters.Salary.values"
   ]
  },
  {
   "cell_type": "code",
   "execution_count": 4,
   "metadata": {},
   "outputs": [
    {
     "name": "stdout",
     "output_type": "stream",
     "text": [
      "The principal comoponent matrix has shape (num_samples, num_pcs)= (263, 19) \n",
      "\n",
      "The first two PCs have the following first 5 scores: \n",
      " \n",
      " [[-0.0096  1.8705]\n",
      " [ 0.4114 -2.4294]\n",
      " [ 3.4668  0.8259]\n",
      " [-2.5583 -0.231 ]\n",
      " [ 1.0277 -1.5735]] \n",
      "\n",
      "The loadings matrix has shape (num_pcs, num_features) = (19, 19) \n",
      "\n",
      "The 19 loadings for the first two principal components are:\n",
      " \n",
      " [[ 0.1983  0.1959]\n",
      " [-0.3838 -0.3773]\n",
      " [ 0.0886  0.074 ]\n",
      " [ 0.032   0.018 ]\n",
      " [ 0.0281 -0.0047]\n",
      " [-0.0706 -0.0822]\n",
      " [ 0.107   0.13  ]\n",
      " [ 0.2698  0.3887]\n",
      " [-0.0122 -0.0616]\n",
      " [ 0.1456  0.1305]\n",
      " [ 0.0973  0.0144]\n",
      " [ 0.1031  0.121 ]\n",
      " [-0.0399  0.0036]\n",
      " [ 0.3062  0.2106]\n",
      " [ 0.5324 -0.0234]\n",
      " [-0.5103  0.7202]\n",
      " [ 0.1393 -0.1674]\n",
      " [-0.1068  0.0436]\n",
      " [ 0.0538 -0.0978]]\n"
     ]
    }
   ],
   "source": [
    "pca = PCA()\n",
    "\n",
    "X_pcs = pca.fit_transform(scale(X))\n",
    "print('The principal comoponent matrix has shape (num_samples, num_pcs)=', X_pcs.shape, '\\n')\n",
    "print('The first two PCs have the following first 5 scores: \\n \\n', X_pcs[0:5,0:2], '\\n')\n",
    "\n",
    "loadings = pca.components_\n",
    "print('The loadings matrix has shape (num_pcs, num_features) =', loadings.shape, '\\n')\n",
    "print('The 19 loadings for the first two principal components are:\\n \\n', loadings[:,0:2])"
   ]
  },
  {
   "cell_type": "code",
   "execution_count": 5,
   "metadata": {},
   "outputs": [
    {
     "name": "stdout",
     "output_type": "stream",
     "text": [
      "Percent Variance Explained by number of components:\n",
      "\n",
      " 1     0.383142\n",
      "2     0.601553\n",
      "3     0.708417\n",
      "4     0.790342\n",
      "5     0.842903\n",
      "6     0.886348\n",
      "7     0.922629\n",
      "8     0.949630\n",
      "9     0.962827\n",
      "10    0.972554\n",
      "11    0.979778\n",
      "12    0.986487\n",
      "13    0.991518\n",
      "14    0.994730\n",
      "15    0.997466\n",
      "16    0.998940\n",
      "17    0.999682\n",
      "18    0.999938\n",
      "19    1.000000\n",
      "dtype: float64\n"
     ]
    }
   ],
   "source": [
    "scores = []\n",
    "percent_variance = []\n",
    "\n",
    "num_components = list(np.arange(1,X.shape[1]+1))\n",
    "num_samples = X.shape[0]\n",
    "\n",
    "sc=cross_validate(LinearRegression(), np.ones((num_samples,1)), y,scoring = 'neg_mean_squared_error',cv=10)\n",
    "scores.append(np.mean(sc['test_score']) * -1)\n",
    "\n",
    "for n in num_components:\n",
    "    pca = PCA(n_components=n)\n",
    "    \n",
    "    model = Pipeline([('scaler', StandardScaler()), ('pca', pca), ('linear_regression', LinearRegression())])\n",
    "    \n",
    "    model.fit(X,y)\n",
    "    sc=cross_validate(model, X, y, scoring='neg_mean_squared_error', cv=10)\n",
    "    scores.append(np.mean(sc['test_score']) * -1)\n",
    "    percent_variance.append(np.sum(pca.explained_variance_ratio_))\n",
    "\n",
    "print('Percent Variance Explained by number of components:\\n\\n', pd.Series(percent_variance, index=range(1,20)))"
   ]
  },
  {
   "cell_type": "code",
   "execution_count": 6,
   "metadata": {},
   "outputs": [
    {
     "data": {
      "text/plain": [
       "(-1.0, 19.95)"
      ]
     },
     "execution_count": 6,
     "metadata": {},
     "output_type": "execute_result"
    },
    {
     "data": {
      "image/png": "[encoded data removed]",
      "text/plain": [
       "<Figure size 576x288 with 1 Axes>"
      ]
     },
     "metadata": {},
     "output_type": "display_data"
    }
   ],
   "source": [
    "fig, ax = plt.subplots(figsize=(8,4))\n",
    "ax.plot(scores, marker='o', color='b')\n",
    "ax.set_xlabel('Number of Components')\n",
    "ax.set_ylabel('10-Fold CV Score')\n",
    "ax.set_xlim(xmin=-1)"
   ]
  },
  {
   "cell_type": "code",
   "execution_count": 7,
   "metadata": {},
   "outputs": [
    {
     "data": {
      "image/png": "[encoded data removed]",
      "text/plain": [
       "<Figure size 576x288 with 1 Axes>"
      ]
     },
     "metadata": {},
     "output_type": "display_data"
    }
   ],
   "source": [
    "np.random.seed(2)\n",
    "\n",
    "train = np.random.choice([True, False], size=len(hitters))\n",
    "\n",
    "X_train = X[train]\n",
    "y_train = y[train]\n",
    "X_test = X[~train]\n",
    "y_test = y[~train]\n",
    "\n",
    "num_samples = X_train.shape[0]\n",
    "\n",
    "scores = []\n",
    "\n",
    "num_components = list(np.arange(1,X_train.shape[1]+1))\n",
    "num_samples = X_train.shape[0]\n",
    "\n",
    "sc=cross_validate(LinearRegression(), np.ones((num_samples,1)), y_train, cv=10, scoring = 'neg_mean_squared_error')\n",
    "scores.append(np.mean(sc['test_score']) * -1)\n",
    "\n",
    "for n in num_components:\n",
    "\n",
    "    pca = PCA(n_components=n)\n",
    "    \n",
    "    model = Pipeline([('scaler', StandardScaler()), ('pca', pca), ('linear_regression', LinearRegression())])\n",
    "    \n",
    "    model.fit(X_train,y_train)\n",
    "    sc=cross_validate(model, X_train, y_train, scoring='neg_mean_squared_error', cv=10)\n",
    "    scores.append(np.mean(sc['test_score']) * -1)\n",
    "\n",
    "\n",
    "fig, ax = plt.subplots(figsize=(8,4))\n",
    "ax.plot(scores, marker='o', color='b');\n",
    "ax.set_xlabel('Number of Components');\n",
    "ax.set_ylabel('Training 10-Fold CV Score');\n",
    "ax.set_xlim(xmin=-1);"
   ]
  },
  {
   "cell_type": "code",
   "execution_count": 8,
   "metadata": {},
   "outputs": [
    {
     "name": "stdout",
     "output_type": "stream",
     "text": [
      "139862.01933304142\n"
     ]
    }
   ],
   "source": [
    "pca = PCA(n_components=5)\n",
    "\n",
    "model = Pipeline([('scaler', StandardScaler()), ('pca', pca), ('linear_regression', LinearRegression())])\n",
    "    \n",
    "model.fit(X_train,y_train) \n",
    "\n",
    "y_predict=model.predict(X_test)\n",
    "\n",
    "MSE = np.mean((y_predict-y_test)**2)\n",
    "print(MSE)"
   ]
  }
 ],
 "metadata": {
  "kernelspec": {
   "display_name": "Python 3",
   "language": "python",
   "name": "python3"
  },
  "language_info": {
   "codemirror_mode": {
    "name": "ipython",
    "version": 3
   },
   "file_extension": ".py",
   "mimetype": "text/x-python",
   "name": "python",
   "nbconvert_exporter": "python",
   "pygments_lexer": "ipython3",
   "version": "3.8.8"
  }
 },
 "nbformat": 4,
 "nbformat_minor": 1
}
