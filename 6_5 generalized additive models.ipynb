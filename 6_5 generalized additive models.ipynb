{
 "cells": [
  {
   "cell_type": "markdown",
   "metadata": {},
   "source": [
    "### exercise 6: beyond linearity "
   ]
  },
  {
   "cell_type": "markdown",
   "metadata": {},
   "source": [
    "### task 5: generalized additive models "
   ]
  },
  {
   "cell_type": "code",
   "execution_count": 1,
   "metadata": {},
   "outputs": [],
   "source": [
    "import pandas as pd\n",
    "import numpy as np\n",
    "import statsmodels.api as sm\n",
    "import statsmodels.formula.api as smf\n",
    "\n",
    "from patsy import bs, dmatrix\n",
    "from matplotlib import pyplot as plt\n",
    "\n",
    "%matplotlib inline\n",
    "plt.style.use('ggplot')"
   ]
  },
  {
   "cell_type": "code",
   "execution_count": 2,
   "metadata": {},
   "outputs": [
    {
     "data": {
      "text/html": [
       "<div>\n",
       "<style scoped>\n",
       "    .dataframe tbody tr th:only-of-type {\n",
       "        vertical-align: middle;\n",
       "    }\n",
       "\n",
       "    .dataframe tbody tr th {\n",
       "        vertical-align: top;\n",
       "    }\n",
       "\n",
       "    .dataframe thead th {\n",
       "        text-align: right;\n",
       "    }\n",
       "</style>\n",
       "<table border=\"1\" class=\"dataframe\">\n",
       "  <thead>\n",
       "    <tr style=\"text-align: right;\">\n",
       "      <th></th>\n",
       "      <th>Unnamed: 0</th>\n",
       "      <th>year</th>\n",
       "      <th>age</th>\n",
       "      <th>sex</th>\n",
       "      <th>maritl</th>\n",
       "      <th>race</th>\n",
       "      <th>education</th>\n",
       "      <th>region</th>\n",
       "      <th>jobclass</th>\n",
       "      <th>health</th>\n",
       "      <th>health_ins</th>\n",
       "      <th>logwage</th>\n",
       "      <th>wage</th>\n",
       "    </tr>\n",
       "  </thead>\n",
       "  <tbody>\n",
       "    <tr>\n",
       "      <th>0</th>\n",
       "      <td>231655</td>\n",
       "      <td>2006</td>\n",
       "      <td>18</td>\n",
       "      <td>1. Male</td>\n",
       "      <td>1. Never Married</td>\n",
       "      <td>1. White</td>\n",
       "      <td>1. &lt; HS Grad</td>\n",
       "      <td>2. Middle Atlantic</td>\n",
       "      <td>1. Industrial</td>\n",
       "      <td>1. &lt;=Good</td>\n",
       "      <td>2. No</td>\n",
       "      <td>4.318063</td>\n",
       "      <td>75.043154</td>\n",
       "    </tr>\n",
       "    <tr>\n",
       "      <th>1</th>\n",
       "      <td>86582</td>\n",
       "      <td>2004</td>\n",
       "      <td>24</td>\n",
       "      <td>1. Male</td>\n",
       "      <td>1. Never Married</td>\n",
       "      <td>1. White</td>\n",
       "      <td>4. College Grad</td>\n",
       "      <td>2. Middle Atlantic</td>\n",
       "      <td>2. Information</td>\n",
       "      <td>2. &gt;=Very Good</td>\n",
       "      <td>2. No</td>\n",
       "      <td>4.255273</td>\n",
       "      <td>70.476020</td>\n",
       "    </tr>\n",
       "    <tr>\n",
       "      <th>2</th>\n",
       "      <td>161300</td>\n",
       "      <td>2003</td>\n",
       "      <td>45</td>\n",
       "      <td>1. Male</td>\n",
       "      <td>2. Married</td>\n",
       "      <td>1. White</td>\n",
       "      <td>3. Some College</td>\n",
       "      <td>2. Middle Atlantic</td>\n",
       "      <td>1. Industrial</td>\n",
       "      <td>1. &lt;=Good</td>\n",
       "      <td>1. Yes</td>\n",
       "      <td>4.875061</td>\n",
       "      <td>130.982177</td>\n",
       "    </tr>\n",
       "    <tr>\n",
       "      <th>3</th>\n",
       "      <td>155159</td>\n",
       "      <td>2003</td>\n",
       "      <td>43</td>\n",
       "      <td>1. Male</td>\n",
       "      <td>2. Married</td>\n",
       "      <td>3. Asian</td>\n",
       "      <td>4. College Grad</td>\n",
       "      <td>2. Middle Atlantic</td>\n",
       "      <td>2. Information</td>\n",
       "      <td>2. &gt;=Very Good</td>\n",
       "      <td>1. Yes</td>\n",
       "      <td>5.041393</td>\n",
       "      <td>154.685293</td>\n",
       "    </tr>\n",
       "    <tr>\n",
       "      <th>4</th>\n",
       "      <td>11443</td>\n",
       "      <td>2005</td>\n",
       "      <td>50</td>\n",
       "      <td>1. Male</td>\n",
       "      <td>4. Divorced</td>\n",
       "      <td>1. White</td>\n",
       "      <td>2. HS Grad</td>\n",
       "      <td>2. Middle Atlantic</td>\n",
       "      <td>2. Information</td>\n",
       "      <td>1. &lt;=Good</td>\n",
       "      <td>1. Yes</td>\n",
       "      <td>4.318063</td>\n",
       "      <td>75.043154</td>\n",
       "    </tr>\n",
       "  </tbody>\n",
       "</table>\n",
       "</div>"
      ],
      "text/plain": [
       "   Unnamed: 0  year  age      sex            maritl      race  \\\n",
       "0      231655  2006   18  1. Male  1. Never Married  1. White   \n",
       "1       86582  2004   24  1. Male  1. Never Married  1. White   \n",
       "2      161300  2003   45  1. Male        2. Married  1. White   \n",
       "3      155159  2003   43  1. Male        2. Married  3. Asian   \n",
       "4       11443  2005   50  1. Male       4. Divorced  1. White   \n",
       "\n",
       "         education              region        jobclass          health  \\\n",
       "0     1. < HS Grad  2. Middle Atlantic   1. Industrial       1. <=Good   \n",
       "1  4. College Grad  2. Middle Atlantic  2. Information  2. >=Very Good   \n",
       "2  3. Some College  2. Middle Atlantic   1. Industrial       1. <=Good   \n",
       "3  4. College Grad  2. Middle Atlantic  2. Information  2. >=Very Good   \n",
       "4       2. HS Grad  2. Middle Atlantic  2. Information       1. <=Good   \n",
       "\n",
       "  health_ins   logwage        wage  \n",
       "0      2. No  4.318063   75.043154  \n",
       "1      2. No  4.255273   70.476020  \n",
       "2     1. Yes  4.875061  130.982177  \n",
       "3     1. Yes  5.041393  154.685293  \n",
       "4     1. Yes  4.318063   75.043154  "
      ]
     },
     "execution_count": 2,
     "metadata": {},
     "output_type": "execute_result"
    }
   ],
   "source": [
    "Wages = pd.read_csv(r'C:\\Users\\Chijun Zhang\\Documents\\jupyter\\machine learning exercise\\datasets\\Wage.csv')\n",
    "Wages.head()"
   ]
  },
  {
   "cell_type": "code",
   "execution_count": 3,
   "metadata": {},
   "outputs": [
    {
     "name": "stdout",
     "output_type": "stream",
     "text": [
      "id            False\n",
      "year          False\n",
      "age           False\n",
      "sex           False\n",
      "maritl        False\n",
      "race          False\n",
      "education     False\n",
      "region        False\n",
      "jobclass      False\n",
      "health        False\n",
      "health_ins    False\n",
      "logwage       False\n",
      "wage          False\n",
      "dtype: bool\n"
     ]
    }
   ],
   "source": [
    "Wages = Wages.rename(columns={'Unnamed: 0': 'id'})\n",
    "print(pd.isnull(Wages).any())"
   ]
  },
  {
   "cell_type": "markdown",
   "metadata": {},
   "source": [
    "## Generalized Additive Models"
   ]
  },
  {
   "cell_type": "code",
   "execution_count": 4,
   "metadata": {},
   "outputs": [],
   "source": [
    "design = dmatrix(\"cr(year, df=4, constraints='center') + cr(age, df=5, constraints='center') + education\",\n",
    "                 data={\"year\":Wages.year, \"age\":Wages.age, \"education\":Wages.education}, return_type=\"dataframe\")\n",
    "\n",
    "gam = sm.OLS(endog=Wages.wage, exog=design).fit()"
   ]
  },
  {
   "cell_type": "code",
   "execution_count": 5,
   "metadata": {},
   "outputs": [
    {
     "name": "stdout",
     "output_type": "stream",
     "text": [
      "                            OLS Regression Results                            \n",
      "==============================================================================\n",
      "Dep. Variable:                   wage   R-squared:                       0.293\n",
      "Model:                            OLS   Adj. R-squared:                  0.290\n",
      "Method:                 Least Squares   F-statistic:                     95.22\n",
      "Date:                Thu, 25 Aug 2022   Prob (F-statistic):          1.55e-213\n",
      "Time:                        11:04:48   Log-Likelihood:                -14930.\n",
      "No. Observations:                3000   AIC:                         2.989e+04\n",
      "Df Residuals:                    2986   BIC:                         2.997e+04\n",
      "Df Model:                          13                                         \n",
      "Covariance Type:            nonrobust                                         \n",
      "===========================================================================================================\n",
      "                                              coef    std err          t      P>|t|      [0.025      0.975]\n",
      "-----------------------------------------------------------------------------------------------------------\n",
      "Intercept                                  85.4759      2.155     39.668      0.000      81.251      89.701\n",
      "education[T.2. HS Grad]                    10.9574      2.430      4.509      0.000       6.193      15.722\n",
      "education[T.3. Some College]               23.4431      2.562      9.152      0.000      18.420      28.466\n",
      "education[T.4. College Grad]               38.2330      2.546     15.015      0.000      33.240      43.226\n",
      "education[T.5. Advanced Degree]            62.4786      2.761     22.626      0.000      57.064      67.893\n",
      "cr(year, df=4, constraints='center')[0]    -0.0548      1.540     -0.036      0.972      -3.075       2.965\n",
      "cr(year, df=4, constraints='center')[1]     3.6194      1.504      2.407      0.016       0.671       6.567\n",
      "cr(year, df=4, constraints='center')[2]     2.2938      1.565      1.466      0.143      -0.775       5.363\n",
      "cr(year, df=4, constraints='center')[3]     4.5342      1.713      2.647      0.008       1.176       7.893\n",
      "cr(age, df=5, constraints='center')[0]      7.7241      2.640      2.926      0.003       2.548      12.900\n",
      "cr(age, df=5, constraints='center')[1]     31.0975      2.688     11.567      0.000      25.826      36.369\n",
      "cr(age, df=5, constraints='center')[2]     20.7737      2.490      8.342      0.000      15.891      25.656\n",
      "cr(age, df=5, constraints='center')[3]      6.1212      2.866      2.136      0.033       0.501      11.741\n",
      "cr(age, df=5, constraints='center')[4]    -28.3309     11.298     -2.508      0.012     -50.483      -6.179\n",
      "==============================================================================\n",
      "Omnibus:                     1032.791   Durbin-Watson:                   1.979\n",
      "Prob(Omnibus):                  0.000   Jarque-Bera (JB):             5516.646\n",
      "Skew:                           1.545   Prob(JB):                         0.00\n",
      "Kurtosis:                       8.881   Cond. No.                         19.5\n",
      "==============================================================================\n",
      "\n",
      "Notes:\n",
      "[1] Standard Errors assume that the covariance matrix of the errors is correctly specified.\n"
     ]
    }
   ],
   "source": [
    "print(gam.summary())"
   ]
  },
  {
   "cell_type": "code",
   "execution_count": 6,
   "metadata": {},
   "outputs": [
    {
     "data": {
      "text/html": [
       "<div>\n",
       "<style scoped>\n",
       "    .dataframe tbody tr th:only-of-type {\n",
       "        vertical-align: middle;\n",
       "    }\n",
       "\n",
       "    .dataframe tbody tr th {\n",
       "        vertical-align: top;\n",
       "    }\n",
       "\n",
       "    .dataframe thead th {\n",
       "        text-align: right;\n",
       "    }\n",
       "</style>\n",
       "<table border=\"1\" class=\"dataframe\">\n",
       "  <thead>\n",
       "    <tr style=\"text-align: right;\">\n",
       "      <th></th>\n",
       "      <th>Intercept</th>\n",
       "      <th>education[T.2. HS Grad]</th>\n",
       "      <th>education[T.3. Some College]</th>\n",
       "      <th>education[T.4. College Grad]</th>\n",
       "      <th>education[T.5. Advanced Degree]</th>\n",
       "      <th>cr(year, df=4, constraints='center')[0]</th>\n",
       "      <th>cr(year, df=4, constraints='center')[1]</th>\n",
       "      <th>cr(year, df=4, constraints='center')[2]</th>\n",
       "      <th>cr(year, df=4, constraints='center')[3]</th>\n",
       "      <th>cr(age, df=5, constraints='center')[0]</th>\n",
       "      <th>cr(age, df=5, constraints='center')[1]</th>\n",
       "      <th>cr(age, df=5, constraints='center')[2]</th>\n",
       "      <th>cr(age, df=5, constraints='center')[3]</th>\n",
       "      <th>cr(age, df=5, constraints='center')[4]</th>\n",
       "    </tr>\n",
       "  </thead>\n",
       "  <tbody>\n",
       "    <tr>\n",
       "      <th>0</th>\n",
       "      <td>1.0</td>\n",
       "      <td>0.0</td>\n",
       "      <td>0.0</td>\n",
       "      <td>0.0</td>\n",
       "      <td>0.0</td>\n",
       "      <td>-0.163729</td>\n",
       "      <td>0.875408</td>\n",
       "      <td>-0.134574</td>\n",
       "      <td>-0.098130</td>\n",
       "      <td>-0.501258</td>\n",
       "      <td>-0.695111</td>\n",
       "      <td>-0.500457</td>\n",
       "      <td>-0.097924</td>\n",
       "      <td>-0.005629</td>\n",
       "    </tr>\n",
       "    <tr>\n",
       "      <th>1</th>\n",
       "      <td>1.0</td>\n",
       "      <td>0.0</td>\n",
       "      <td>0.0</td>\n",
       "      <td>1.0</td>\n",
       "      <td>0.0</td>\n",
       "      <td>0.589322</td>\n",
       "      <td>-0.388702</td>\n",
       "      <td>-0.208715</td>\n",
       "      <td>-0.187743</td>\n",
       "      <td>0.400144</td>\n",
       "      <td>-0.615868</td>\n",
       "      <td>-0.284361</td>\n",
       "      <td>-0.074217</td>\n",
       "      <td>-0.002268</td>\n",
       "    </tr>\n",
       "  </tbody>\n",
       "</table>\n",
       "</div>"
      ],
      "text/plain": [
       "   Intercept  education[T.2. HS Grad]  education[T.3. Some College]  \\\n",
       "0        1.0                      0.0                           0.0   \n",
       "1        1.0                      0.0                           0.0   \n",
       "\n",
       "   education[T.4. College Grad]  education[T.5. Advanced Degree]  \\\n",
       "0                           0.0                              0.0   \n",
       "1                           1.0                              0.0   \n",
       "\n",
       "   cr(year, df=4, constraints='center')[0]  \\\n",
       "0                                -0.163729   \n",
       "1                                 0.589322   \n",
       "\n",
       "   cr(year, df=4, constraints='center')[1]  \\\n",
       "0                                 0.875408   \n",
       "1                                -0.388702   \n",
       "\n",
       "   cr(year, df=4, constraints='center')[2]  \\\n",
       "0                                -0.134574   \n",
       "1                                -0.208715   \n",
       "\n",
       "   cr(year, df=4, constraints='center')[3]  \\\n",
       "0                                -0.098130   \n",
       "1                                -0.187743   \n",
       "\n",
       "   cr(age, df=5, constraints='center')[0]  \\\n",
       "0                               -0.501258   \n",
       "1                                0.400144   \n",
       "\n",
       "   cr(age, df=5, constraints='center')[1]  \\\n",
       "0                               -0.695111   \n",
       "1                               -0.615868   \n",
       "\n",
       "   cr(age, df=5, constraints='center')[2]  \\\n",
       "0                               -0.500457   \n",
       "1                               -0.284361   \n",
       "\n",
       "   cr(age, df=5, constraints='center')[3]  \\\n",
       "0                               -0.097924   \n",
       "1                               -0.074217   \n",
       "\n",
       "   cr(age, df=5, constraints='center')[4]  \n",
       "0                               -0.005629  \n",
       "1                               -0.002268  "
      ]
     },
     "execution_count": 6,
     "metadata": {},
     "output_type": "execute_result"
    }
   ],
   "source": [
    "# Lets take a look again at the design matrix\n",
    "design.head(2)"
   ]
  },
  {
   "cell_type": "code",
   "execution_count": 7,
   "metadata": {},
   "outputs": [
    {
     "data": {
      "text/html": [
       "<div>\n",
       "<style scoped>\n",
       "    .dataframe tbody tr th:only-of-type {\n",
       "        vertical-align: middle;\n",
       "    }\n",
       "\n",
       "    .dataframe tbody tr th {\n",
       "        vertical-align: top;\n",
       "    }\n",
       "\n",
       "    .dataframe thead th {\n",
       "        text-align: right;\n",
       "    }\n",
       "</style>\n",
       "<table border=\"1\" class=\"dataframe\">\n",
       "  <thead>\n",
       "    <tr style=\"text-align: right;\">\n",
       "      <th></th>\n",
       "      <th>cr(year, df=4, constraints='center')[0]</th>\n",
       "      <th>cr(year, df=4, constraints='center')[1]</th>\n",
       "      <th>cr(year, df=4, constraints='center')[2]</th>\n",
       "      <th>cr(year, df=4, constraints='center')[3]</th>\n",
       "    </tr>\n",
       "  </thead>\n",
       "  <tbody>\n",
       "    <tr>\n",
       "      <th>0</th>\n",
       "      <td>-0.163729</td>\n",
       "      <td>0.875408</td>\n",
       "      <td>-0.134574</td>\n",
       "      <td>-0.098130</td>\n",
       "    </tr>\n",
       "    <tr>\n",
       "      <th>1</th>\n",
       "      <td>0.589322</td>\n",
       "      <td>-0.388702</td>\n",
       "      <td>-0.208715</td>\n",
       "      <td>-0.187743</td>\n",
       "    </tr>\n",
       "    <tr>\n",
       "      <th>2</th>\n",
       "      <td>-0.556162</td>\n",
       "      <td>-0.423217</td>\n",
       "      <td>-0.457127</td>\n",
       "      <td>-0.333333</td>\n",
       "    </tr>\n",
       "    <tr>\n",
       "      <th>3</th>\n",
       "      <td>-0.556162</td>\n",
       "      <td>-0.423217</td>\n",
       "      <td>-0.457127</td>\n",
       "      <td>-0.333333</td>\n",
       "    </tr>\n",
       "    <tr>\n",
       "      <th>4</th>\n",
       "      <td>0.593776</td>\n",
       "      <td>0.256291</td>\n",
       "      <td>-0.227666</td>\n",
       "      <td>-0.087802</td>\n",
       "    </tr>\n",
       "  </tbody>\n",
       "</table>\n",
       "</div>"
      ],
      "text/plain": [
       "   cr(year, df=4, constraints='center')[0]  \\\n",
       "0                                -0.163729   \n",
       "1                                 0.589322   \n",
       "2                                -0.556162   \n",
       "3                                -0.556162   \n",
       "4                                 0.593776   \n",
       "\n",
       "   cr(year, df=4, constraints='center')[1]  \\\n",
       "0                                 0.875408   \n",
       "1                                -0.388702   \n",
       "2                                -0.423217   \n",
       "3                                -0.423217   \n",
       "4                                 0.256291   \n",
       "\n",
       "   cr(year, df=4, constraints='center')[2]  \\\n",
       "0                                -0.134574   \n",
       "1                                -0.208715   \n",
       "2                                -0.457127   \n",
       "3                                -0.457127   \n",
       "4                                -0.227666   \n",
       "\n",
       "   cr(year, df=4, constraints='center')[3]  \n",
       "0                                -0.098130  \n",
       "1                                -0.187743  \n",
       "2                                -0.333333  \n",
       "3                                -0.333333  \n",
       "4                                -0.087802  "
      ]
     },
     "execution_count": 7,
     "metadata": {},
     "output_type": "execute_result"
    }
   ],
   "source": [
    "year_basis = design[design.columns[5:9]]\n",
    "year_basis.head()"
   ]
  },
  {
   "cell_type": "code",
   "execution_count": 8,
   "metadata": {},
   "outputs": [],
   "source": [
    "f1 = np.dot(year_basis.values, gam.params[5:9])"
   ]
  },
  {
   "cell_type": "code",
   "execution_count": 9,
   "metadata": {},
   "outputs": [
    {
     "data": {
      "image/png": "[encoded data removed]",
      "text/plain": [
       "<Figure size 432x288 with 1 Axes>"
      ]
     },
     "metadata": {},
     "output_type": "display_data"
    }
   ],
   "source": [
    "order = np.argsort(Wages.year.values)\n",
    "\n",
    "plt.plot(Wages.year[order],f1[order], lw=2)\n",
    "plt.ylim([-35,35]);\n",
    "labels = list(range(2003,2010,1))\n",
    "plt.xticks(range(2003,2010), labels);\n",
    "plt.xlabel('year');\n",
    "plt.ylabel('f1(year)');"
   ]
  },
  {
   "cell_type": "code",
   "execution_count": 10,
   "metadata": {},
   "outputs": [],
   "source": [
    "age_basis = design[design.columns[9:]]"
   ]
  },
  {
   "cell_type": "code",
   "execution_count": 11,
   "metadata": {},
   "outputs": [],
   "source": [
    "f2 = np.dot(age_basis.values, gam.params[9:])"
   ]
  },
  {
   "cell_type": "code",
   "execution_count": 12,
   "metadata": {},
   "outputs": [
    {
     "data": {
      "image/png": "[encoded data removed]",
      "text/plain": [
       "<Figure size 432x288 with 1 Axes>"
      ]
     },
     "metadata": {},
     "output_type": "display_data"
    }
   ],
   "source": [
    "order = np.argsort(Wages.age.values)\n",
    "\n",
    "plt.plot(Wages.age[order], f2[order], lw=2);\n",
    "plt.ylabel('f2(age)');\n",
    "plt.xlabel('age');\n",
    "plt.ylim([-55,20]);"
   ]
  },
  {
   "cell_type": "code",
   "execution_count": 13,
   "metadata": {},
   "outputs": [],
   "source": [
    "ed_levels = design[design.columns[1:5]]"
   ]
  },
  {
   "cell_type": "code",
   "execution_count": 14,
   "metadata": {},
   "outputs": [
    {
     "data": {
      "text/html": [
       "<div>\n",
       "<style scoped>\n",
       "    .dataframe tbody tr th:only-of-type {\n",
       "        vertical-align: middle;\n",
       "    }\n",
       "\n",
       "    .dataframe tbody tr th {\n",
       "        vertical-align: top;\n",
       "    }\n",
       "\n",
       "    .dataframe thead th {\n",
       "        text-align: right;\n",
       "    }\n",
       "</style>\n",
       "<table border=\"1\" class=\"dataframe\">\n",
       "  <thead>\n",
       "    <tr style=\"text-align: right;\">\n",
       "      <th></th>\n",
       "      <th>id</th>\n",
       "      <th>year</th>\n",
       "      <th>age</th>\n",
       "      <th>sex</th>\n",
       "      <th>maritl</th>\n",
       "      <th>race</th>\n",
       "      <th>education</th>\n",
       "      <th>region</th>\n",
       "      <th>jobclass</th>\n",
       "      <th>health</th>\n",
       "      <th>health_ins</th>\n",
       "      <th>logwage</th>\n",
       "      <th>wage</th>\n",
       "      <th>ed_F3</th>\n",
       "    </tr>\n",
       "  </thead>\n",
       "  <tbody>\n",
       "    <tr>\n",
       "      <th>0</th>\n",
       "      <td>231655</td>\n",
       "      <td>2006</td>\n",
       "      <td>18</td>\n",
       "      <td>1. Male</td>\n",
       "      <td>1. Never Married</td>\n",
       "      <td>1. White</td>\n",
       "      <td>1. &lt; HS Grad</td>\n",
       "      <td>2. Middle Atlantic</td>\n",
       "      <td>1. Industrial</td>\n",
       "      <td>1. &lt;=Good</td>\n",
       "      <td>2. No</td>\n",
       "      <td>4.318063</td>\n",
       "      <td>75.043154</td>\n",
       "      <td>-26.227696</td>\n",
       "    </tr>\n",
       "    <tr>\n",
       "      <th>1</th>\n",
       "      <td>86582</td>\n",
       "      <td>2004</td>\n",
       "      <td>24</td>\n",
       "      <td>1. Male</td>\n",
       "      <td>1. Never Married</td>\n",
       "      <td>1. White</td>\n",
       "      <td>4. College Grad</td>\n",
       "      <td>2. Middle Atlantic</td>\n",
       "      <td>2. Information</td>\n",
       "      <td>2. &gt;=Very Good</td>\n",
       "      <td>2. No</td>\n",
       "      <td>4.255273</td>\n",
       "      <td>70.476020</td>\n",
       "      <td>12.005255</td>\n",
       "    </tr>\n",
       "  </tbody>\n",
       "</table>\n",
       "</div>"
      ],
      "text/plain": [
       "       id  year  age      sex            maritl      race        education  \\\n",
       "0  231655  2006   18  1. Male  1. Never Married  1. White     1. < HS Grad   \n",
       "1   86582  2004   24  1. Male  1. Never Married  1. White  4. College Grad   \n",
       "\n",
       "               region        jobclass          health health_ins   logwage  \\\n",
       "0  2. Middle Atlantic   1. Industrial       1. <=Good      2. No  4.318063   \n",
       "1  2. Middle Atlantic  2. Information  2. >=Very Good      2. No  4.255273   \n",
       "\n",
       "        wage      ed_F3  \n",
       "0  75.043154 -26.227696  \n",
       "1  70.476020  12.005255  "
      ]
     },
     "execution_count": 14,
     "metadata": {},
     "output_type": "execute_result"
    }
   ],
   "source": [
    "ed_coeffs = gam.params[1:5];\n",
    "\n",
    "Wages['ed_F3'] = np.dot(ed_levels, ed_coeffs)\n",
    "Wages['ed_F3'] = Wages['ed_F3']-Wages['ed_F3'].mean()\n",
    "Wages.head(2)"
   ]
  },
  {
   "cell_type": "code",
   "execution_count": 15,
   "metadata": {},
   "outputs": [
    {
     "data": {
      "image/png": "[encoded data removed]",
      "text/plain": [
       "<Figure size 576x432 with 1 Axes>"
      ]
     },
     "metadata": {},
     "output_type": "display_data"
    }
   ],
   "source": [
    "fig, ax1 = plt.subplots(1,1,figsize=(8,6))\n",
    "Wages.boxplot(column='ed_F3', by='education', ax=ax1);\n",
    "ax1.set_ylabel('F3(education)');\n",
    "plt.suptitle('');"
   ]
  },
  {
   "cell_type": "code",
   "execution_count": 16,
   "metadata": {},
   "outputs": [
    {
     "name": "stdout",
     "output_type": "stream",
     "text": [
      "   df_resid           ssr  df_diff       ss_diff          F    Pr(>F)\n",
      "0    2990.0  3.712549e+06      0.0           NaN        NaN       NaN\n",
      "1    2989.0  3.695015e+06      1.0  17534.011180  14.182511  0.000169\n",
      "2    2986.0  3.691628e+06      3.0   3386.677223   0.913113  0.433717\n"
     ]
    }
   ],
   "source": [
    "design1 = dmatrix(\"cr(age, df=5, constraints='center') + education\",\n",
    "                 data={\"age\":Wages.age, \"education\":Wages.education}, return_type=\"dataframe\")\n",
    "\n",
    "gam1 = sm.OLS(endog=Wages.wage, exog=design1).fit()\n",
    "\n",
    "design2 = dmatrix(\"year + cr(age, df=5, constraints='center') + education\",\n",
    "                 data={\"year\":Wages.year, \"age\":Wages.age, \"education\":Wages.education}, return_type=\"dataframe\")\n",
    "\n",
    "gam2 = sm.OLS(endog=Wages.wage, exog=design2).fit()\n",
    "\n",
    "design3 = dmatrix(\"cr(year, df=4, constraints='center') + cr(age, df=5, constraints='center') + education\",\n",
    "                 data={\"year\":Wages.year, \"age\":Wages.age, \"education\":Wages.education}, return_type=\"dataframe\")\n",
    "\n",
    "gam3 = sm.OLS(endog=Wages.wage, exog=design3).fit()\n",
    "\n",
    "anova = sm.stats.anova_lm(gam1, gam2, gam3)\n",
    "print(anova)"
   ]
  },
  {
   "cell_type": "code",
   "execution_count": 17,
   "metadata": {},
   "outputs": [
    {
     "name": "stdout",
     "output_type": "stream",
     "text": [
      "                            OLS Regression Results                            \n",
      "==============================================================================\n",
      "Dep. Variable:                   wage   R-squared:                       0.292\n",
      "Model:                            OLS   Adj. R-squared:                  0.290\n",
      "Method:                 Least Squares   F-statistic:                     123.5\n",
      "Date:                Thu, 25 Aug 2022   Prob (F-statistic):          4.70e-216\n",
      "Time:                        11:04:49   Log-Likelihood:                -14931.\n",
      "No. Observations:                3000   AIC:                         2.988e+04\n",
      "Df Residuals:                    2989   BIC:                         2.995e+04\n",
      "Df Model:                          10                                         \n",
      "Covariance Type:            nonrobust                                         \n",
      "==========================================================================================================\n",
      "                                             coef    std err          t      P>|t|      [0.025      0.975]\n",
      "----------------------------------------------------------------------------------------------------------\n",
      "Intercept                              -2316.2770    637.709     -3.632      0.000   -3566.670   -1065.884\n",
      "education[T.2. HS Grad]                   11.0218      2.428      4.539      0.000       6.260      15.783\n",
      "education[T.3. Some College]              23.5921      2.559      9.219      0.000      18.575      28.610\n",
      "education[T.4. College Grad]              38.2053      2.544     15.018      0.000      33.217      43.194\n",
      "education[T.5. Advanced Degree]           62.5466      2.761     22.658      0.000      57.134      67.959\n",
      "year                                       1.1974      0.318      3.766      0.000       0.574       1.821\n",
      "cr(age, df=5, constraints='center')[0]     7.7147      2.639      2.924      0.003       2.541      12.889\n",
      "cr(age, df=5, constraints='center')[1]    31.0352      2.686     11.553      0.000      25.768      36.302\n",
      "cr(age, df=5, constraints='center')[2]    20.7652      2.490      8.340      0.000      15.883      25.647\n",
      "cr(age, df=5, constraints='center')[3]     6.0196      2.863      2.102      0.036       0.406      11.634\n",
      "cr(age, df=5, constraints='center')[4]   -28.4506     11.296     -2.519      0.012     -50.599      -6.302\n",
      "==============================================================================\n",
      "Omnibus:                     1031.394   Durbin-Watson:                   1.979\n",
      "Prob(Omnibus):                  0.000   Jarque-Bera (JB):             5507.386\n",
      "Skew:                           1.543   Prob(JB):                         0.00\n",
      "Kurtosis:                       8.877   Cond. No.                     1.99e+06\n",
      "==============================================================================\n",
      "\n",
      "Notes:\n",
      "[1] Standard Errors assume that the covariance matrix of the errors is correctly specified.\n",
      "[2] The condition number is large, 1.99e+06. This might indicate that there are\n",
      "strong multicollinearity or other numerical problems.\n"
     ]
    }
   ],
   "source": [
    "print(gam2.summary())"
   ]
  },
  {
   "cell_type": "code",
   "execution_count": null,
   "metadata": {},
   "outputs": [],
   "source": []
  }
 ],
 "metadata": {
  "kernelspec": {
   "display_name": "Python 3",
   "language": "python",
   "name": "python3"
  },
  "language_info": {
   "codemirror_mode": {
    "name": "ipython",
    "version": 3
   },
   "file_extension": ".py",
   "mimetype": "text/x-python",
   "name": "python",
   "nbconvert_exporter": "python",
   "pygments_lexer": "ipython3",
   "version": "3.8.8"
  }
 },
 "nbformat": 4,
 "nbformat_minor": 1
}
