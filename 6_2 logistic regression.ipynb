{
 "cells": [
  {
   "cell_type": "markdown",
   "metadata": {},
   "source": [
    "### exercise 6: beyond linearity "
   ]
  },
  {
   "cell_type": "markdown",
   "metadata": {},
   "source": [
    "### task 2: logistic regression "
   ]
  },
  {
   "cell_type": "code",
   "execution_count": 1,
   "metadata": {},
   "outputs": [],
   "source": [
    "import pandas as pd\n",
    "import numpy as np\n",
    "import statsmodels.formula.api as smf\n",
    "\n",
    "from scipy import stats\n",
    "from matplotlib import pyplot as plt\n",
    "\n",
    "%matplotlib inline\n",
    "plt.style.use('ggplot')"
   ]
  },
  {
   "cell_type": "code",
   "execution_count": 2,
   "metadata": {},
   "outputs": [
    {
     "data": {
      "text/html": [
       "<div>\n",
       "<style scoped>\n",
       "    .dataframe tbody tr th:only-of-type {\n",
       "        vertical-align: middle;\n",
       "    }\n",
       "\n",
       "    .dataframe tbody tr th {\n",
       "        vertical-align: top;\n",
       "    }\n",
       "\n",
       "    .dataframe thead th {\n",
       "        text-align: right;\n",
       "    }\n",
       "</style>\n",
       "<table border=\"1\" class=\"dataframe\">\n",
       "  <thead>\n",
       "    <tr style=\"text-align: right;\">\n",
       "      <th></th>\n",
       "      <th>Unnamed: 0</th>\n",
       "      <th>year</th>\n",
       "      <th>age</th>\n",
       "      <th>sex</th>\n",
       "      <th>maritl</th>\n",
       "      <th>race</th>\n",
       "      <th>education</th>\n",
       "      <th>region</th>\n",
       "      <th>jobclass</th>\n",
       "      <th>health</th>\n",
       "      <th>health_ins</th>\n",
       "      <th>logwage</th>\n",
       "      <th>wage</th>\n",
       "    </tr>\n",
       "  </thead>\n",
       "  <tbody>\n",
       "    <tr>\n",
       "      <th>0</th>\n",
       "      <td>231655</td>\n",
       "      <td>2006</td>\n",
       "      <td>18</td>\n",
       "      <td>1. Male</td>\n",
       "      <td>1. Never Married</td>\n",
       "      <td>1. White</td>\n",
       "      <td>1. &lt; HS Grad</td>\n",
       "      <td>2. Middle Atlantic</td>\n",
       "      <td>1. Industrial</td>\n",
       "      <td>1. &lt;=Good</td>\n",
       "      <td>2. No</td>\n",
       "      <td>4.318063</td>\n",
       "      <td>75.043154</td>\n",
       "    </tr>\n",
       "    <tr>\n",
       "      <th>1</th>\n",
       "      <td>86582</td>\n",
       "      <td>2004</td>\n",
       "      <td>24</td>\n",
       "      <td>1. Male</td>\n",
       "      <td>1. Never Married</td>\n",
       "      <td>1. White</td>\n",
       "      <td>4. College Grad</td>\n",
       "      <td>2. Middle Atlantic</td>\n",
       "      <td>2. Information</td>\n",
       "      <td>2. &gt;=Very Good</td>\n",
       "      <td>2. No</td>\n",
       "      <td>4.255273</td>\n",
       "      <td>70.476020</td>\n",
       "    </tr>\n",
       "    <tr>\n",
       "      <th>2</th>\n",
       "      <td>161300</td>\n",
       "      <td>2003</td>\n",
       "      <td>45</td>\n",
       "      <td>1. Male</td>\n",
       "      <td>2. Married</td>\n",
       "      <td>1. White</td>\n",
       "      <td>3. Some College</td>\n",
       "      <td>2. Middle Atlantic</td>\n",
       "      <td>1. Industrial</td>\n",
       "      <td>1. &lt;=Good</td>\n",
       "      <td>1. Yes</td>\n",
       "      <td>4.875061</td>\n",
       "      <td>130.982177</td>\n",
       "    </tr>\n",
       "    <tr>\n",
       "      <th>3</th>\n",
       "      <td>155159</td>\n",
       "      <td>2003</td>\n",
       "      <td>43</td>\n",
       "      <td>1. Male</td>\n",
       "      <td>2. Married</td>\n",
       "      <td>3. Asian</td>\n",
       "      <td>4. College Grad</td>\n",
       "      <td>2. Middle Atlantic</td>\n",
       "      <td>2. Information</td>\n",
       "      <td>2. &gt;=Very Good</td>\n",
       "      <td>1. Yes</td>\n",
       "      <td>5.041393</td>\n",
       "      <td>154.685293</td>\n",
       "    </tr>\n",
       "    <tr>\n",
       "      <th>4</th>\n",
       "      <td>11443</td>\n",
       "      <td>2005</td>\n",
       "      <td>50</td>\n",
       "      <td>1. Male</td>\n",
       "      <td>4. Divorced</td>\n",
       "      <td>1. White</td>\n",
       "      <td>2. HS Grad</td>\n",
       "      <td>2. Middle Atlantic</td>\n",
       "      <td>2. Information</td>\n",
       "      <td>1. &lt;=Good</td>\n",
       "      <td>1. Yes</td>\n",
       "      <td>4.318063</td>\n",
       "      <td>75.043154</td>\n",
       "    </tr>\n",
       "  </tbody>\n",
       "</table>\n",
       "</div>"
      ],
      "text/plain": [
       "   Unnamed: 0  year  age      sex            maritl      race  \\\n",
       "0      231655  2006   18  1. Male  1. Never Married  1. White   \n",
       "1       86582  2004   24  1. Male  1. Never Married  1. White   \n",
       "2      161300  2003   45  1. Male        2. Married  1. White   \n",
       "3      155159  2003   43  1. Male        2. Married  3. Asian   \n",
       "4       11443  2005   50  1. Male       4. Divorced  1. White   \n",
       "\n",
       "         education              region        jobclass          health  \\\n",
       "0     1. < HS Grad  2. Middle Atlantic   1. Industrial       1. <=Good   \n",
       "1  4. College Grad  2. Middle Atlantic  2. Information  2. >=Very Good   \n",
       "2  3. Some College  2. Middle Atlantic   1. Industrial       1. <=Good   \n",
       "3  4. College Grad  2. Middle Atlantic  2. Information  2. >=Very Good   \n",
       "4       2. HS Grad  2. Middle Atlantic  2. Information       1. <=Good   \n",
       "\n",
       "  health_ins   logwage        wage  \n",
       "0      2. No  4.318063   75.043154  \n",
       "1      2. No  4.255273   70.476020  \n",
       "2     1. Yes  4.875061  130.982177  \n",
       "3     1. Yes  5.041393  154.685293  \n",
       "4     1. Yes  4.318063   75.043154  "
      ]
     },
     "execution_count": 2,
     "metadata": {},
     "output_type": "execute_result"
    }
   ],
   "source": [
    "Wages = pd.read_csv(r'C:\\Users\\Chijun Zhang\\Documents\\jupyter\\machine learning exercise\\datasets\\Wage.csv')\n",
    "Wages.head()"
   ]
  },
  {
   "cell_type": "code",
   "execution_count": 3,
   "metadata": {},
   "outputs": [
    {
     "name": "stdout",
     "output_type": "stream",
     "text": [
      "id            False\n",
      "year          False\n",
      "age           False\n",
      "sex           False\n",
      "maritl        False\n",
      "race          False\n",
      "education     False\n",
      "region        False\n",
      "jobclass      False\n",
      "health        False\n",
      "health_ins    False\n",
      "logwage       False\n",
      "wage          False\n",
      "dtype: bool\n"
     ]
    }
   ],
   "source": [
    "Wages = Wages.rename(columns={'Unnamed: 0': 'id'})\n",
    "print(pd.isnull(Wages).any())"
   ]
  },
  {
   "cell_type": "markdown",
   "metadata": {},
   "source": [
    "$P(\\text{Wage} > 250 | \\text{Age}) = \\frac{\\text{exp}(\\beta_0 + \\beta_1*age + \\beta_2*age^2 + \\beta_3*age^3 + \\beta_4*age^4)}{1 + \\text{exp}(\\beta_0 + \\beta_1*age + \\beta_2*age^2 + \\beta_3*age^3 + \\beta_4*age^4)}$"
   ]
  },
  {
   "cell_type": "code",
   "execution_count": 4,
   "metadata": {},
   "outputs": [
    {
     "name": "stdout",
     "output_type": "stream",
     "text": [
      "Optimization terminated successfully.\n",
      "         Current function value: 0.116870\n",
      "         Iterations 12\n",
      "                           Logit Regression Results                           \n",
      "==============================================================================\n",
      "Dep. Variable:            high_earner   No. Observations:                 3000\n",
      "Model:                          Logit   Df Residuals:                     2995\n",
      "Method:                           MLE   Df Model:                            4\n",
      "Date:                Thu, 25 Aug 2022   Pseudo R-squ.:                 0.04013\n",
      "Time:                        00:58:51   Log-Likelihood:                -350.61\n",
      "converged:                       True   LL-Null:                       -365.27\n",
      "Covariance Type:            nonrobust   LLR p-value:                 6.747e-06\n",
      "===============================================================================\n",
      "                  coef    std err          z      P>|z|      [0.025      0.975]\n",
      "-------------------------------------------------------------------------------\n",
      "Intercept    -109.5530     47.655     -2.299      0.022    -202.956     -16.150\n",
      "age             8.9950      4.187      2.148      0.032       0.789      17.201\n",
      "I(age ** 2)    -0.2816      0.135     -2.081      0.037      -0.547      -0.016\n",
      "I(age ** 3)     0.0039      0.002      2.022      0.043       0.000       0.008\n",
      "I(age ** 4) -1.949e-05   9.91e-06     -1.966      0.049   -3.89e-05   -6.41e-08\n",
      "===============================================================================\n"
     ]
    }
   ],
   "source": [
    "Wages['high_earner'] = (Wages.wage > 250).astype(float)\n",
    "\n",
    "model = smf.logit('high_earner ~ age + I(age**2) + I(age**3) + I(age**4)', data=Wages)\n",
    "\n",
    "estimate = model.fit()\n",
    "print(estimate.summary())"
   ]
  },
  {
   "cell_type": "code",
   "execution_count": 5,
   "metadata": {},
   "outputs": [],
   "source": [
    "new_ages = np.linspace(Wages.age.min(), Wages.age.max(), num=1000)\n",
    "\n",
    "predictions = estimate.predict(exog=dict(age=new_ages))\n",
    "\n",
    "\n",
    "std_err = np.array([])\n",
    "for age in new_ages:\n",
    "    \n",
    "    x_age = np.array([[1,age,age**2,age**3,age**4]])\n",
    "    \n",
    "    var = np.dot(np.dot(x_age,estimate.cov_params()),x_age.T)\n",
    "    \n",
    "    std_err = np.append(std_err, np.sqrt(var))\n",
    "    \n",
    "    \n",
    "crit_value = stats.t.isf(.05/2,len(Wages)-1)\n",
    "\n",
    "widths = crit_value*std_err\n",
    "\n",
    "linear_fit_vals = estimate.predict(exog=dict(age=new_ages), linear=True)\n",
    "\n",
    "\n",
    "ui_linear = linear_fit_vals + widths\n",
    "li_linear = linear_fit_vals - widths\n",
    "\n",
    "\n",
    "ui = np.exp(ui_linear)/(1+np.exp(ui_linear))\n",
    "li = np.exp(li_linear)/(1+np.exp(li_linear))"
   ]
  },
  {
   "cell_type": "code",
   "execution_count": 6,
   "metadata": {},
   "outputs": [
    {
     "data": {
      "image/png": "[encoded data removed]",
      "text/plain": [
       "<Figure size 864x576 with 1 Axes>"
      ]
     },
     "metadata": {},
     "output_type": "display_data"
    }
   ],
   "source": [
    "fig, ax = plt.subplots(figsize=(12,8))\n",
    "\n",
    "def rand_jitter(arr):\n",
    "    stdev = .01*(max(arr)-min(arr))\n",
    "    return arr + np.random.randn(len(arr)) * stdev\n",
    "\n",
    "ax.scatter(rand_jitter(Wages.age.values), Wages.high_earner.values/5, marker='|', color='darkgray', s=200)\n",
    "\n",
    "ax.plot(new_ages,predictions,color='b',label='Logit')\n",
    "\n",
    "ax.plot(new_ages, ui, color='b', linestyle='--', label='95% CI')\n",
    "ax.plot(new_ages, li, color= 'b', linestyle='--')\n",
    "\n",
    "ax.set_ylim([-.01,0.21]);\n",
    "ax.set_xlabel('Age')\n",
    "ax.set_ylabel('Pr(Wage > 250 | Age)');\n",
    "plt.legend(loc='best', prop={'size':15});"
   ]
  },
  {
   "cell_type": "code",
   "execution_count": null,
   "metadata": {},
   "outputs": [],
   "source": []
  }
 ],
 "metadata": {
  "kernelspec": {
   "display_name": "Python 3",
   "language": "python",
   "name": "python3"
  },
  "language_info": {
   "codemirror_mode": {
    "name": "ipython",
    "version": 3
   },
   "file_extension": ".py",
   "mimetype": "text/x-python",
   "name": "python",
   "nbconvert_exporter": "python",
   "pygments_lexer": "ipython3",
   "version": "3.8.8"
  }
 },
 "nbformat": 4,
 "nbformat_minor": 1
}
